{
 "cells": [
  {
   "cell_type": "code",
   "execution_count": 1,
   "metadata": {},
   "outputs": [
    {
     "name": "stderr",
     "output_type": "stream",
     "text": [
      "/home/herval/anaconda3/lib/python3.6/site-packages/h5py/__init__.py:36: FutureWarning: Conversion of the second argument of issubdtype from `float` to `np.floating` is deprecated. In future, it will be treated as `np.float64 == np.dtype(float).type`.\n",
      "  from ._conv import register_converters as _register_converters\n",
      "Using TensorFlow backend.\n"
     ]
    }
   ],
   "source": [
    "from keras.models import model_from_json, Sequential, Model, clone_model\n",
    "from keras.layers import Input, Conv2D, InputLayer, MaxPooling2D, BatchNormalization, Activation, Dense\n",
    "import numpy as np\n",
    "import pandas as pd\n",
    "from tools.tools import *\n",
    "import tensorflow as tf"
   ]
  },
  {
   "cell_type": "code",
   "execution_count": 2,
   "metadata": {},
   "outputs": [],
   "source": [
    "# Load data\n",
    "\n",
    "X_train_original = pd.read_csv('/media/herval/Save/School/THB/Master/Semestre3/Projekt/data/processed/all_with_augmented/X_train.csv', header=None).values[:, 1:]\n",
    "Y_train_original = pd.read_csv('/media/herval/Save/School/THB/Master/Semestre3/Projekt/data/processed/all_with_augmented/Y_train.csv', header=None).values[:, 1]\n",
    "X_test_original = pd.read_csv('/media/herval/Save/School/THB/Master/Semestre3/Projekt/data/processed/all_with_augmented/X_test.csv', header=None).values[:, 1:]\n",
    "Y_test_original = pd.read_csv('/media/herval/Save/School/THB/Master/Semestre3/Projekt/data/processed/all_with_augmented/Y_test.csv', header=None).values[:, 1]"
   ]
  },
  {
   "cell_type": "code",
   "execution_count": 3,
   "metadata": {},
   "outputs": [],
   "source": [
    "X_train = X_train_original.reshape((X_train_original.shape[0], 40, 40, 3)) / 255.\n",
    "X_test = X_test_original.reshape((X_test_original.shape[0], 40, 40, 3)) / 255.\n",
    "\n",
    "Y_train = Y_train_original\n",
    "Y_test = Y_test_original"
   ]
  },
  {
   "cell_type": "code",
   "execution_count": 2,
   "metadata": {},
   "outputs": [
    {
     "name": "stdout",
     "output_type": "stream",
     "text": [
      "_________________________________________________________________\n",
      "Layer (type)                 Output Shape              Param #   \n",
      "=================================================================\n",
      "input_1 (InputLayer)         (None, 40, 40, 3)         0         \n",
      "_________________________________________________________________\n",
      "zero_padding2d_1 (ZeroPaddin (None, 46, 46, 3)         0         \n",
      "_________________________________________________________________\n",
      "conv0 (Conv2D)               (None, 44, 44, 32)        896       \n",
      "_________________________________________________________________\n",
      "bn0 (BatchNormalization)     (None, 44, 44, 32)        128       \n",
      "_________________________________________________________________\n",
      "activation_1 (Activation)    (None, 44, 44, 32)        0         \n",
      "_________________________________________________________________\n",
      "max_pool (MaxPooling2D)      (None, 22, 22, 32)        0         \n",
      "_________________________________________________________________\n",
      "conv1 (Conv2D)               (None, 20, 20, 64)        18496     \n",
      "_________________________________________________________________\n",
      "bn1 (BatchNormalization)     (None, 20, 20, 64)        256       \n",
      "_________________________________________________________________\n",
      "activation_2 (Activation)    (None, 20, 20, 64)        0         \n",
      "_________________________________________________________________\n",
      "max_pool1 (MaxPooling2D)     (None, 10, 10, 64)        0         \n",
      "_________________________________________________________________\n",
      "conv2 (Conv2D)               (None, 8, 8, 128)         73856     \n",
      "_________________________________________________________________\n",
      "bn2 (BatchNormalization)     (None, 8, 8, 128)         512       \n",
      "_________________________________________________________________\n",
      "activation_3 (Activation)    (None, 8, 8, 128)         0         \n",
      "_________________________________________________________________\n",
      "max_pool2 (MaxPooling2D)     (None, 4, 4, 128)         0         \n",
      "_________________________________________________________________\n",
      "flatten_1 (Flatten)          (None, 2048)              0         \n",
      "_________________________________________________________________\n",
      "fc (Dense)                   (None, 1)                 2049      \n",
      "=================================================================\n",
      "Total params: 96,193\n",
      "Trainable params: 95,745\n",
      "Non-trainable params: 448\n",
      "_________________________________________________________________\n"
     ]
    }
   ],
   "source": [
    "# Load model\n",
    "\n",
    "json_file = open('./detector/models/classifier/class_model_train_loss-0.00899300720441_train_acc-0.990210576127_test_loss-0.151853362135_test_acc-0.829227417503_162201811834.json', 'r')\n",
    "model40_json = json_file.read()\n",
    "json_file.close()\n",
    "model40 = model_from_json(model40_json)\n",
    "model40.load_weights(\"./detector/models/classifier/class_weights_train_loss-0.00899300720441_train_acc-0.990210576127_0.1518533621350.82922741750316220181.h5\")\n",
    "model40.summary()"
   ]
  },
  {
   "cell_type": "code",
   "execution_count": 5,
   "metadata": {},
   "outputs": [
    {
     "name": "stdout",
     "output_type": "stream",
     "text": [
      "Real: 1\n",
      "Predicted: [[0.27976918]]\n"
     ]
    }
   ],
   "source": [
    "index = 910\n",
    "example = convertSavedMatrixToApplicableMatrixOfImages(X_test_original, (40, 40), (40, 40))[index]\n",
    "image_example = Image.fromarray(example, 'RGB')\n",
    "print(\"Real: {}\".format(Y_test[index]))\n",
    "print(\"Predicted: {}\".format(model40.predict(np.array([X_test[index]]))))\n",
    "image_example.show()"
   ]
  },
  {
   "cell_type": "code",
   "execution_count": 6,
   "metadata": {},
   "outputs": [],
   "source": [
    "#model40_copy = clone_model(model40)"
   ]
  },
  {
   "cell_type": "code",
   "execution_count": 3,
   "metadata": {},
   "outputs": [
    {
     "name": "stdout",
     "output_type": "stream",
     "text": [
      "_________________________________________________________________\n",
      "Layer (type)                 Output Shape              Param #   \n",
      "=================================================================\n",
      "input_1 (InputLayer)         (None, 22, 22, 3)         0         \n",
      "_________________________________________________________________\n",
      "conv20 (Conv2D)              (None, 20, 20, 32)        896       \n",
      "_________________________________________________________________\n",
      "bn20 (BatchNormalization)    (None, 20, 20, 32)        128       \n",
      "_________________________________________________________________\n",
      "activation_1 (Activation)    (None, 20, 20, 32)        0         \n",
      "_________________________________________________________________\n",
      "max_pool20 (MaxPooling2D)    (None, 10, 10, 32)        0         \n",
      "_________________________________________________________________\n",
      "conv1 (Conv2D)               multiple                  18496     \n",
      "_________________________________________________________________\n",
      "bn1 (BatchNormalization)     multiple                  256       \n",
      "_________________________________________________________________\n",
      "activation_2 (Activation)    multiple                  0         \n",
      "_________________________________________________________________\n",
      "max_pool1 (MaxPooling2D)     multiple                  0         \n",
      "_________________________________________________________________\n",
      "conv2 (Conv2D)               multiple                  73856     \n",
      "_________________________________________________________________\n",
      "bn2 (BatchNormalization)     multiple                  512       \n",
      "_________________________________________________________________\n",
      "activation_3 (Activation)    multiple                  0         \n",
      "_________________________________________________________________\n",
      "max_pool2 (MaxPooling2D)     multiple                  0         \n",
      "_________________________________________________________________\n",
      "flatten_1 (Flatten)          multiple                  0         \n",
      "_________________________________________________________________\n",
      "fc_20 (Dense)                (None, 1)                 129       \n",
      "=================================================================\n",
      "Total params: 94,273\n",
      "Trainable params: 93,825\n",
      "Non-trainable params: 448\n",
      "_________________________________________________________________\n"
     ]
    }
   ],
   "source": [
    "input20 = Input(shape = (22, 22, 3))\n",
    "\n",
    "X = Conv2D(32, (3, 3), strides = (1, 1), name = 'conv20')(input20)\n",
    "X = BatchNormalization(axis = 3, name = 'bn20')(X)\n",
    "X = Activation('relu')(X)\n",
    "X = MaxPooling2D((2, 2), name='max_pool20')(X)\n",
    "X = model40.get_layer('conv1')(X)\n",
    "\n",
    "tf.get_variable_scope().reuse_variables()\n",
    "X = model40.get_layer('bn1')(X)\n",
    "X = model40.get_layer('activation_2')(X)\n",
    "X = model40.get_layer('max_pool1')(X)\n",
    "X = model40.get_layer('conv2')(X)\n",
    "\n",
    "X = model40.get_layer('bn2')(X)\n",
    "X = model40.get_layer('activation_3')(X)\n",
    "X = model40.get_layer('max_pool2')(X)\n",
    "X = model40.get_layer('flatten_1')(X)\n",
    "X = Dense(1, activation='sigmoid', name='fc_20')(X)\n",
    "\n",
    "model20 = Model(inputs = input20, outputs = X)\n",
    "\n",
    "model20.summary()\n",
    "\n",
    "model20_json = model20.to_json()\n",
    "with open(\"./classificators/models/model20.json\", \"w\") as json_file:\n",
    "    json_file.write(model20_json)\n",
    "model20.save_weights(\"./classificators/weights/model20.h5\")"
   ]
  },
  {
   "cell_type": "code",
   "execution_count": 4,
   "metadata": {},
   "outputs": [
    {
     "name": "stdout",
     "output_type": "stream",
     "text": [
      "_________________________________________________________________\n",
      "Layer (type)                 Output Shape              Param #   \n",
      "=================================================================\n",
      "input_2 (InputLayer)         (None, 10, 10, 3)         0         \n",
      "_________________________________________________________________\n",
      "conv10 (Conv2D)              (None, 8, 8, 64)          1792      \n",
      "_________________________________________________________________\n",
      "batch_normalization_2 (Batch (None, 8, 8, 64)          256       \n",
      "_________________________________________________________________\n",
      "activation_2 (Activation)    (None, 8, 8, 64)          0         \n",
      "_________________________________________________________________\n",
      "max_pool10 (MaxPooling2D)    (None, 4, 4, 64)          0         \n",
      "_________________________________________________________________\n",
      "conv2 (Conv2D)               multiple                  73856     \n",
      "_________________________________________________________________\n",
      "bn2 (BatchNormalization)     multiple                  512       \n",
      "_________________________________________________________________\n",
      "activation_3 (Activation)    multiple                  0         \n",
      "_________________________________________________________________\n",
      "max_pool2 (MaxPooling2D)     multiple                  0         \n",
      "_________________________________________________________________\n",
      "flatten_1 (Flatten)          multiple                  0         \n",
      "_________________________________________________________________\n",
      "fc_10 (Dense)                (None, 1)                 129       \n",
      "=================================================================\n",
      "Total params: 76,545\n",
      "Trainable params: 76,161\n",
      "Non-trainable params: 384\n",
      "_________________________________________________________________\n"
     ]
    },
    {
     "ename": "NameError",
     "evalue": "name 'model20' is not defined",
     "output_type": "error",
     "traceback": [
      "\u001b[0;31m---------------------------------------------------------------------------\u001b[0m",
      "\u001b[0;31mNameError\u001b[0m                                 Traceback (most recent call last)",
      "\u001b[0;32m<ipython-input-4-b3335a577632>\u001b[0m in \u001b[0;36m<module>\u001b[0;34m()\u001b[0m\n\u001b[1;32m     21\u001b[0m \u001b[0;32mwith\u001b[0m \u001b[0mopen\u001b[0m\u001b[0;34m(\u001b[0m\u001b[0;34m\"./classificators/models/model10.json\"\u001b[0m\u001b[0;34m,\u001b[0m \u001b[0;34m\"w\"\u001b[0m\u001b[0;34m)\u001b[0m \u001b[0;32mas\u001b[0m \u001b[0mjson_file\u001b[0m\u001b[0;34m:\u001b[0m\u001b[0;34m\u001b[0m\u001b[0m\n\u001b[1;32m     22\u001b[0m     \u001b[0mjson_file\u001b[0m\u001b[0;34m.\u001b[0m\u001b[0mwrite\u001b[0m\u001b[0;34m(\u001b[0m\u001b[0mmodel10_json\u001b[0m\u001b[0;34m)\u001b[0m\u001b[0;34m\u001b[0m\u001b[0m\n\u001b[0;32m---> 23\u001b[0;31m \u001b[0mmodel20\u001b[0m\u001b[0;34m.\u001b[0m\u001b[0msave_weights\u001b[0m\u001b[0;34m(\u001b[0m\u001b[0;34m\"./classificators/weights/model10.h5\"\u001b[0m\u001b[0;34m)\u001b[0m\u001b[0;34m\u001b[0m\u001b[0m\n\u001b[0m",
      "\u001b[0;31mNameError\u001b[0m: name 'model20' is not defined"
     ]
    }
   ],
   "source": [
    "input10 = Input(shape = (10, 10, 3))\n",
    "\n",
    "X = Conv2D(64, (3, 3), strides = (1, 1), name = 'conv10')(input10)\n",
    "X = BatchNormalization(axis = 3)(X)\n",
    "X = Activation('relu')(X)\n",
    "X = MaxPooling2D((2, 2), name='max_pool10')(X)\n",
    "X = model40.get_layer('conv2')(X)\n",
    "\n",
    "tf.get_variable_scope().reuse_variables()\n",
    "X = model40.get_layer('bn2')(X)\n",
    "X = model40.get_layer('activation_3')(X)\n",
    "X = model40.get_layer('max_pool2')(X)\n",
    "X = model40.get_layer('flatten_1')(X)\n",
    "X = Dense(1, activation='sigmoid', name='fc_10')(X)\n",
    "\n",
    "model10 = Model(inputs = input10, outputs = X)\n",
    "\n",
    "model10.summary()\n",
    "\n",
    "model10_json = model10.to_json()\n",
    "with open(\"./classificators/models/model10.json\", \"w\") as json_file:\n",
    "    json_file.write(model10_json)\n",
    "model20.save_weights(\"./classificators/weights/model10.h5\")"
   ]
  },
  {
   "cell_type": "code",
   "execution_count": null,
   "metadata": {},
   "outputs": [],
   "source": []
  }
 ],
 "metadata": {
  "kernelspec": {
   "display_name": "Python 3",
   "language": "python",
   "name": "python3"
  },
  "language_info": {
   "codemirror_mode": {
    "name": "ipython",
    "version": 3
   },
   "file_extension": ".py",
   "mimetype": "text/x-python",
   "name": "python",
   "nbconvert_exporter": "python",
   "pygments_lexer": "ipython3",
   "version": "3.6.4"
  }
 },
 "nbformat": 4,
 "nbformat_minor": 2
}
